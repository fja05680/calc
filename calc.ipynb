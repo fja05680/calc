{
 "cells": [
  {
   "cell_type": "markdown",
   "metadata": {},
   "source": [
    "\n",
    "# Using Python AST module directly\n",
    "\n",
    "\"The ast module helps Python applications to process trees of the Python abstract syntax grammar.\""
   ]
  },
  {
   "cell_type": "code",
   "execution_count": 1,
   "metadata": {
    "scrolled": true
   },
   "outputs": [
    {
     "name": "stdout",
     "output_type": "stream",
     "text": [
      "calc> 1+1\n",
      "Expression(\n",
      "    body=BinOp(\n",
      "        left=Constant(value=1, kind=None),\n",
      "        op=Add(),\n",
      "        right=Constant(value=1, kind=None),\n",
      "    ),\n",
      ")\n"
     ]
    },
    {
     "data": {
      "text/plain": [
       "2"
      ]
     },
     "execution_count": 1,
     "metadata": {},
     "output_type": "execute_result"
    }
   ],
   "source": [
    "import ast\n",
    "from astpretty import pprint\n",
    "\n",
    "text = input('calc> ')\n",
    "tree = ast.parse(text, mode='eval')\n",
    "pprint(tree, show_offsets=False)\n",
    "eval(compile(tree, filename='', mode='eval'))"
   ]
  },
  {
   "cell_type": "markdown",
   "metadata": {},
   "source": [
    "# AST Grammar\n",
    "\n",
    "https://docs.python.org/3/library/ast.html#abstract-grammar  \n",
    "\n",
    "AST Grammar for mathematical expressions.\n",
    "\n",
    "    expr = BinOp(expr left, operator op, expr right)\n",
    "         | UnaryOp(unaryop op, expr operand)\n",
    "         | Constant(constant value)\n",
    "\n",
    "    operator = Add | Sub | Mult | Div\n",
    "\n",
    "    unaryop = UAdd | USub"
   ]
  },
  {
   "cell_type": "markdown",
   "metadata": {},
   "source": [
    "\n",
    "# CALC (Node module)\n",
    "\n",
    "Data Structures for the Abstract Syntax Tree.\n",
    "\n",
    "Node\n",
    " - Number\n",
    " - BinOp\n",
    "    - Plus\n",
    "    - Minus\n",
    "    - Times\n",
    "    - Divide\n",
    "    - Pow\n",
    " - UnaryOp\n",
    "    - UPlus\n",
    "    - UMinus"
   ]
  },
  {
   "cell_type": "code",
   "execution_count": 2,
   "metadata": {},
   "outputs": [
    {
     "data": {
      "text/plain": [
       "'5'"
      ]
     },
     "execution_count": 2,
     "metadata": {},
     "output_type": "execute_result"
    }
   ],
   "source": [
    "import calc\n",
    "\n",
    "# Test Number\n",
    "n = calc.Number(5).value\n",
    "str(n)"
   ]
  },
  {
   "cell_type": "code",
   "execution_count": 3,
   "metadata": {},
   "outputs": [
    {
     "data": {
      "text/plain": [
       "(15.1, -5.1, 50.5, 0.49504950495049505)"
      ]
     },
     "execution_count": 3,
     "metadata": {},
     "output_type": "execute_result"
    }
   ],
   "source": [
    "# Test Binary Operators\n",
    "n1 = calc.Number(5)\n",
    "n2 = calc.Number(10.1)\n",
    "\n",
    "n3 = calc.Plus(n1, n2).evaluate()\n",
    "n4 = calc.Minus(n1, n2).evaluate()\n",
    "n5 = calc.Multiply(n1, n2).evaluate()\n",
    "n6 = calc.Divide(n1, n2).evaluate()\n",
    "n3, n4, n5, n6"
   ]
  },
  {
   "cell_type": "code",
   "execution_count": 4,
   "metadata": {},
   "outputs": [
    {
     "data": {
      "text/plain": [
       "(5, -5)"
      ]
     },
     "execution_count": 4,
     "metadata": {},
     "output_type": "execute_result"
    }
   ],
   "source": [
    "# Test Unary Operators\n",
    "n1 = calc.Number(5)\n",
    "\n",
    "n7 = calc.UPlus(n1).evaluate()\n",
    "n8 = calc.UMinus(n1).evaluate()\n",
    "n7, n8"
   ]
  },
  {
   "cell_type": "code",
   "execution_count": 5,
   "metadata": {},
   "outputs": [
    {
     "data": {
      "text/plain": [
       "11470888.11609393"
      ]
     },
     "execution_count": 5,
     "metadata": {},
     "output_type": "execute_result"
    }
   ],
   "source": [
    "# Test Exponential Operator\n",
    "\n",
    "n9 = calc.Pow(n1, n2).evaluate()\n",
    "n9"
   ]
  },
  {
   "cell_type": "code",
   "execution_count": 6,
   "metadata": {},
   "outputs": [
    {
     "data": {
      "text/plain": [
       "-7"
      ]
     },
     "execution_count": 6,
     "metadata": {},
     "output_type": "execute_result"
    }
   ],
   "source": [
    "# Test combination\n",
    "# 5 + 3 * -4\n",
    "n10 = calc.Plus(calc.Number(5), calc.Multiply(calc.Number(3), calc.UMinus(calc.Number(4)))).evaluate()\n",
    "n10"
   ]
  },
  {
   "cell_type": "markdown",
   "metadata": {},
   "source": [
    "# CALC (Lexer module)\n",
    "\n",
    "Lexer converts a sequence of characters into a list of tokens.  In this case, the input string represents a mathematical expression.  A token is a string with an assigned meaning, for example '+' for addition.  A token consists of the token type and optionally a value."
   ]
  },
  {
   "cell_type": "code",
   "execution_count": 7,
   "metadata": {},
   "outputs": [],
   "source": [
    "expression = '5+2--1*(8+2.1)+2**2**3'\n",
    "#expression = '1+2+3'"
   ]
  },
  {
   "cell_type": "code",
   "execution_count": 8,
   "metadata": {},
   "outputs": [
    {
     "data": {
      "text/plain": [
       "[TokenType.NUMBER 5,\n",
       " TokenType.PLUS ,\n",
       " TokenType.NUMBER 2,\n",
       " TokenType.MINUS ,\n",
       " TokenType.MINUS ,\n",
       " TokenType.NUMBER 1,\n",
       " TokenType.MULTIPLY ,\n",
       " TokenType.LPAREN ,\n",
       " TokenType.NUMBER 8,\n",
       " TokenType.PLUS ,\n",
       " TokenType.NUMBER 2.1,\n",
       " TokenType.RPAREN ,\n",
       " TokenType.PLUS ,\n",
       " TokenType.NUMBER 2,\n",
       " TokenType.POW ,\n",
       " TokenType.NUMBER 2,\n",
       " TokenType.POW ,\n",
       " TokenType.NUMBER 3]"
      ]
     },
     "execution_count": 8,
     "metadata": {},
     "output_type": "execute_result"
    }
   ],
   "source": [
    "# Test Lexer\n",
    "lexer = calc.Lexer(expression)\n",
    "tokens = lexer.parse()\n",
    "tokens"
   ]
  },
  {
   "cell_type": "markdown",
   "metadata": {},
   "source": [
    "# CALC (Parser module)\n",
    "\n",
    "Parser takes a list of tokens and builds an AST, based on a specified grammar.  Grammar defines the arrangement of tokens.  In this case, it is a set of rules to produce a mathematical expression. "
   ]
  },
  {
   "cell_type": "code",
   "execution_count": 9,
   "metadata": {},
   "outputs": [
    {
     "data": {
      "text/plain": [
       "calc.node.Plus"
      ]
     },
     "execution_count": 9,
     "metadata": {},
     "output_type": "execute_result"
    }
   ],
   "source": [
    "# Test Parser\n",
    "parser = calc.Parser(tokens)\n",
    "tree = parser.parse()\n",
    "type(tree)"
   ]
  },
  {
   "cell_type": "code",
   "execution_count": 10,
   "metadata": {},
   "outputs": [
    {
     "data": {
      "text/plain": [
       "273.1"
      ]
     },
     "execution_count": 10,
     "metadata": {},
     "output_type": "execute_result"
    }
   ],
   "source": [
    "# Test evaluate\n",
    "tree.evaluate()"
   ]
  },
  {
   "cell_type": "code",
   "execution_count": 11,
   "metadata": {},
   "outputs": [
    {
     "name": "stdout",
     "output_type": "stream",
     "text": [
      "(((5+2)--1*(8+2.1))+2**2**3)\n"
     ]
    }
   ],
   "source": [
    "# Test generate expression\n",
    "print(tree)"
   ]
  },
  {
   "cell_type": "markdown",
   "metadata": {},
   "source": [
    "# Visitor Pattern\n",
    "\n",
    "\"The visitor design pattern is a way of separating an algorithm from an object structure on which it operates.\""
   ]
  },
  {
   "cell_type": "code",
   "execution_count": 12,
   "metadata": {},
   "outputs": [
    {
     "data": {
      "text/plain": [
       "273.1"
      ]
     },
     "execution_count": 12,
     "metadata": {},
     "output_type": "execute_result"
    }
   ],
   "source": [
    "v = calc.Visitor()\n",
    "result = v.visit(tree)\n",
    "result"
   ]
  },
  {
   "cell_type": "markdown",
   "metadata": {},
   "source": [
    "# AST Visualization\n",
    "\n",
    "Has two dependancies, install them with:\n",
    "\n",
    "sudo apt install graphviz  \n",
    "sudo pip install pydot"
   ]
  },
  {
   "cell_type": "code",
   "execution_count": 13,
   "metadata": {},
   "outputs": [],
   "source": [
    "v = calc.Visualization()\n",
    "v.visit(tree)\n",
    "v.write_png()"
   ]
  },
  {
   "cell_type": "code",
   "execution_count": 14,
   "metadata": {
    "scrolled": false
   },
   "outputs": [
    {
     "name": "stdout",
     "output_type": "stream",
     "text": [
      "5+2--1*(8+2.1)+2**2**3\n",
      "(((5+2)--1*(8+2.1))+2**2**3)\n"
     ]
    },
    {
     "data": {
      "image/png": "[encoded data removed]",
      "text/plain": [
       "<IPython.core.display.Image object>"
      ]
     },
     "execution_count": 14,
     "metadata": {},
     "output_type": "execute_result"
    }
   ],
   "source": [
    "from IPython import display\n",
    "print(expression)\n",
    "print(tree)\n",
    "display.Image('output.png')"
   ]
  }
 ],
 "metadata": {
  "kernelspec": {
   "display_name": "Python 3",
   "language": "python",
   "name": "python3"
  },
  "language_info": {
   "codemirror_mode": {
    "name": "ipython",
    "version": 3
   },
   "file_extension": ".py",
   "mimetype": "text/x-python",
   "name": "python",
   "nbconvert_exporter": "python",
   "pygments_lexer": "ipython3",
   "version": "3.8.10"
  }
 },
 "nbformat": 4,
 "nbformat_minor": 4
}
